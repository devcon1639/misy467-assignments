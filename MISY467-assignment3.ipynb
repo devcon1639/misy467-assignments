{
 "cells": [
  {
   "cell_type": "markdown",
   "metadata": {},
   "source": [
    "# Marriott Hotel Category Change 2020 Analysis"
   ]
  },
  {
   "cell_type": "code",
   "execution_count": 2,
   "metadata": {},
   "outputs": [],
   "source": [
    "# import pandas\n",
    "import pandas as pd"
   ]
  },
  {
   "cell_type": "code",
   "execution_count": 3,
   "metadata": {},
   "outputs": [
    {
     "data": {
      "text/html": [
       "<div>\n",
       "<style scoped>\n",
       "    .dataframe tbody tr th:only-of-type {\n",
       "        vertical-align: middle;\n",
       "    }\n",
       "\n",
       "    .dataframe tbody tr th {\n",
       "        vertical-align: top;\n",
       "    }\n",
       "\n",
       "    .dataframe thead th {\n",
       "        text-align: right;\n",
       "    }\n",
       "</style>\n",
       "<table border=\"1\" class=\"dataframe\">\n",
       "  <thead>\n",
       "    <tr style=\"text-align: right;\">\n",
       "      <th></th>\n",
       "      <th>Hotel</th>\n",
       "      <th>Brand</th>\n",
       "      <th>Destination</th>\n",
       "      <th>Current Category</th>\n",
       "      <th>Current Standard Price</th>\n",
       "      <th>New Category</th>\n",
       "      <th>New Standard Price</th>\n",
       "    </tr>\n",
       "  </thead>\n",
       "  <tbody>\n",
       "    <tr>\n",
       "      <th>0</th>\n",
       "      <td>Aberdeen Marriott Hotel</td>\n",
       "      <td>Marriott</td>\n",
       "      <td>United Kingdom</td>\n",
       "      <td>3</td>\n",
       "      <td>17500</td>\n",
       "      <td>2</td>\n",
       "      <td>12500</td>\n",
       "    </tr>\n",
       "    <tr>\n",
       "      <th>1</th>\n",
       "      <td>AC Hotel Aitana</td>\n",
       "      <td>AC Hotels by Marriott</td>\n",
       "      <td>Spain</td>\n",
       "      <td>3</td>\n",
       "      <td>17500</td>\n",
       "      <td>4</td>\n",
       "      <td>25000</td>\n",
       "    </tr>\n",
       "    <tr>\n",
       "      <th>2</th>\n",
       "      <td>AC Hotel Alcala de Henares</td>\n",
       "      <td>AC Hotels by Marriott</td>\n",
       "      <td>Spain</td>\n",
       "      <td>1</td>\n",
       "      <td>7500</td>\n",
       "      <td>2</td>\n",
       "      <td>12500</td>\n",
       "    </tr>\n",
       "    <tr>\n",
       "      <th>3</th>\n",
       "      <td>AC Hotel Almeria</td>\n",
       "      <td>AC Hotels by Marriott</td>\n",
       "      <td>Spain</td>\n",
       "      <td>1</td>\n",
       "      <td>7500</td>\n",
       "      <td>2</td>\n",
       "      <td>12500</td>\n",
       "    </tr>\n",
       "    <tr>\n",
       "      <th>4</th>\n",
       "      <td>AC Hotel Aravaca</td>\n",
       "      <td>AC Hotels by Marriott</td>\n",
       "      <td>Spain</td>\n",
       "      <td>1</td>\n",
       "      <td>7500</td>\n",
       "      <td>2</td>\n",
       "      <td>12500</td>\n",
       "    </tr>\n",
       "  </tbody>\n",
       "</table>\n",
       "</div>"
      ],
      "text/plain": [
       "                        Hotel                  Brand     Destination  \\\n",
       "0     Aberdeen Marriott Hotel               Marriott  United Kingdom   \n",
       "1             AC Hotel Aitana  AC Hotels by Marriott           Spain   \n",
       "2  AC Hotel Alcala de Henares  AC Hotels by Marriott           Spain   \n",
       "3            AC Hotel Almeria  AC Hotels by Marriott           Spain   \n",
       "4            AC Hotel Aravaca  AC Hotels by Marriott           Spain   \n",
       "\n",
       "   Current Category  Current Standard Price  New Category  New Standard Price  \n",
       "0                 3                   17500             2               12500  \n",
       "1                 3                   17500             4               25000  \n",
       "2                 1                    7500             2               12500  \n",
       "3                 1                    7500             2               12500  \n",
       "4                 1                    7500             2               12500  "
      ]
     },
     "execution_count": 3,
     "metadata": {},
     "output_type": "execute_result"
    }
   ],
   "source": [
    "# read data from csv\n",
    "df = pd.read_csv('marriott-category-changes-2020.csv')\n",
    "df.head()"
   ]
  },
  {
   "cell_type": "markdown",
   "metadata": {},
   "source": [
    "## Question 1\n",
    "Discribe the data types for each feature/column, e.g., xxx feature's data type is String, yyy feature's data type is float, etc."
   ]
  },
  {
   "cell_type": "code",
   "execution_count": 4,
   "metadata": {},
   "outputs": [
    {
     "data": {
      "text/plain": [
       "Hotel                     object\n",
       "Brand                     object\n",
       "Destination               object\n",
       "Current Category           int64\n",
       "Current Standard Price     int64\n",
       "New Category               int64\n",
       "New Standard Price         int64\n",
       "dtype: object"
      ]
     },
     "execution_count": 4,
     "metadata": {},
     "output_type": "execute_result"
    }
   ],
   "source": [
    "df.dtypes"
   ]
  },
  {
   "cell_type": "markdown",
   "metadata": {},
   "source": [
    "* The Hotel feature's data type is String\n",
    "* The Brand feature's data type is String\n",
    "* The Destination feature's data type is String\n",
    "* The Current Category feature's data type is an integer\n",
    "* The Current Standard Price feature's data type is integer\n",
    "* The New Category feature's data type is an integer\n",
    "* The New Standard Price feature's data type is integer"
   ]
  },
  {
   "cell_type": "markdown",
   "metadata": {},
   "source": [
    "## Question 2\n",
    "- How many hotels are in this dataset?\n",
    "- The hotels are from how many unique brands?\n",
    "- Which destination/country has the most hotels listed in this dataset? List the total number of hotels in that country\n",
    "- How many brands in China have hotel category changes?"
   ]
  },
  {
   "cell_type": "code",
   "execution_count": 5,
   "metadata": {},
   "outputs": [
    {
     "data": {
      "text/plain": [
       "(2185, 7)"
      ]
     },
     "execution_count": 5,
     "metadata": {},
     "output_type": "execute_result"
    }
   ],
   "source": [
    "df.shape"
   ]
  },
  {
   "cell_type": "code",
   "execution_count": 6,
   "metadata": {},
   "outputs": [
    {
     "data": {
      "text/html": [
       "<div>\n",
       "<style scoped>\n",
       "    .dataframe tbody tr th:only-of-type {\n",
       "        vertical-align: middle;\n",
       "    }\n",
       "\n",
       "    .dataframe tbody tr th {\n",
       "        vertical-align: top;\n",
       "    }\n",
       "\n",
       "    .dataframe thead th {\n",
       "        text-align: right;\n",
       "    }\n",
       "</style>\n",
       "<table border=\"1\" class=\"dataframe\">\n",
       "  <thead>\n",
       "    <tr style=\"text-align: right;\">\n",
       "      <th></th>\n",
       "      <th>Hotel</th>\n",
       "      <th>Brand</th>\n",
       "      <th>Destination</th>\n",
       "      <th>Current Category</th>\n",
       "      <th>Current Standard Price</th>\n",
       "      <th>New Category</th>\n",
       "      <th>New Standard Price</th>\n",
       "    </tr>\n",
       "  </thead>\n",
       "  <tbody>\n",
       "    <tr>\n",
       "      <th>0</th>\n",
       "      <td>Aberdeen Marriott Hotel</td>\n",
       "      <td>Marriott</td>\n",
       "      <td>United Kingdom</td>\n",
       "      <td>3</td>\n",
       "      <td>17500</td>\n",
       "      <td>2</td>\n",
       "      <td>12500</td>\n",
       "    </tr>\n",
       "    <tr>\n",
       "      <th>1</th>\n",
       "      <td>AC Hotel Aitana</td>\n",
       "      <td>AC Hotels by Marriott</td>\n",
       "      <td>Spain</td>\n",
       "      <td>3</td>\n",
       "      <td>17500</td>\n",
       "      <td>4</td>\n",
       "      <td>25000</td>\n",
       "    </tr>\n",
       "    <tr>\n",
       "      <th>2</th>\n",
       "      <td>AC Hotel Alcala de Henares</td>\n",
       "      <td>AC Hotels by Marriott</td>\n",
       "      <td>Spain</td>\n",
       "      <td>1</td>\n",
       "      <td>7500</td>\n",
       "      <td>2</td>\n",
       "      <td>12500</td>\n",
       "    </tr>\n",
       "    <tr>\n",
       "      <th>3</th>\n",
       "      <td>AC Hotel Almeria</td>\n",
       "      <td>AC Hotels by Marriott</td>\n",
       "      <td>Spain</td>\n",
       "      <td>1</td>\n",
       "      <td>7500</td>\n",
       "      <td>2</td>\n",
       "      <td>12500</td>\n",
       "    </tr>\n",
       "    <tr>\n",
       "      <th>4</th>\n",
       "      <td>AC Hotel Aravaca</td>\n",
       "      <td>AC Hotels by Marriott</td>\n",
       "      <td>Spain</td>\n",
       "      <td>1</td>\n",
       "      <td>7500</td>\n",
       "      <td>2</td>\n",
       "      <td>12500</td>\n",
       "    </tr>\n",
       "    <tr>\n",
       "      <th>...</th>\n",
       "      <td>...</td>\n",
       "      <td>...</td>\n",
       "      <td>...</td>\n",
       "      <td>...</td>\n",
       "      <td>...</td>\n",
       "      <td>...</td>\n",
       "      <td>...</td>\n",
       "    </tr>\n",
       "    <tr>\n",
       "      <th>2180</th>\n",
       "      <td>Xiamen Marriott Hotel &amp; Conference Centre</td>\n",
       "      <td>Marriott</td>\n",
       "      <td>China</td>\n",
       "      <td>2</td>\n",
       "      <td>12500</td>\n",
       "      <td>3</td>\n",
       "      <td>17500</td>\n",
       "    </tr>\n",
       "    <tr>\n",
       "      <th>2181</th>\n",
       "      <td>Xiangshui Bay Marriott Resort &amp; Spa</td>\n",
       "      <td>Marriott</td>\n",
       "      <td>China</td>\n",
       "      <td>3</td>\n",
       "      <td>17500</td>\n",
       "      <td>2</td>\n",
       "      <td>12500</td>\n",
       "    </tr>\n",
       "    <tr>\n",
       "      <th>2182</th>\n",
       "      <td>Yogyakarta Marriott Hotel</td>\n",
       "      <td>Marriott</td>\n",
       "      <td>Indonesia</td>\n",
       "      <td>2</td>\n",
       "      <td>12500</td>\n",
       "      <td>3</td>\n",
       "      <td>17500</td>\n",
       "    </tr>\n",
       "    <tr>\n",
       "      <th>2183</th>\n",
       "      <td>Zhejiang Taizhou Marriott Hotel</td>\n",
       "      <td>Marriott</td>\n",
       "      <td>China</td>\n",
       "      <td>2</td>\n",
       "      <td>12500</td>\n",
       "      <td>1</td>\n",
       "      <td>7500</td>\n",
       "    </tr>\n",
       "    <tr>\n",
       "      <th>2184</th>\n",
       "      <td>Zhuzhou Marriott Hotel</td>\n",
       "      <td>Marriott</td>\n",
       "      <td>China</td>\n",
       "      <td>2</td>\n",
       "      <td>12500</td>\n",
       "      <td>1</td>\n",
       "      <td>7500</td>\n",
       "    </tr>\n",
       "  </tbody>\n",
       "</table>\n",
       "<p>2183 rows × 7 columns</p>\n",
       "</div>"
      ],
      "text/plain": [
       "                                          Hotel                  Brand  \\\n",
       "0                       Aberdeen Marriott Hotel               Marriott   \n",
       "1                               AC Hotel Aitana  AC Hotels by Marriott   \n",
       "2                    AC Hotel Alcala de Henares  AC Hotels by Marriott   \n",
       "3                              AC Hotel Almeria  AC Hotels by Marriott   \n",
       "4                              AC Hotel Aravaca  AC Hotels by Marriott   \n",
       "...                                         ...                    ...   \n",
       "2180  Xiamen Marriott Hotel & Conference Centre               Marriott   \n",
       "2181        Xiangshui Bay Marriott Resort & Spa               Marriott   \n",
       "2182                  Yogyakarta Marriott Hotel               Marriott   \n",
       "2183            Zhejiang Taizhou Marriott Hotel               Marriott   \n",
       "2184                     Zhuzhou Marriott Hotel               Marriott   \n",
       "\n",
       "         Destination  Current Category  Current Standard Price  New Category  \\\n",
       "0     United Kingdom                 3                   17500             2   \n",
       "1              Spain                 3                   17500             4   \n",
       "2              Spain                 1                    7500             2   \n",
       "3              Spain                 1                    7500             2   \n",
       "4              Spain                 1                    7500             2   \n",
       "...              ...               ...                     ...           ...   \n",
       "2180           China                 2                   12500             3   \n",
       "2181           China                 3                   17500             2   \n",
       "2182       Indonesia                 2                   12500             3   \n",
       "2183           China                 2                   12500             1   \n",
       "2184           China                 2                   12500             1   \n",
       "\n",
       "      New Standard Price  \n",
       "0                  12500  \n",
       "1                  25000  \n",
       "2                  12500  \n",
       "3                  12500  \n",
       "4                  12500  \n",
       "...                  ...  \n",
       "2180               17500  \n",
       "2181               12500  \n",
       "2182               17500  \n",
       "2183                7500  \n",
       "2184                7500  \n",
       "\n",
       "[2183 rows x 7 columns]"
      ]
     },
     "execution_count": 6,
     "metadata": {},
     "output_type": "execute_result"
    }
   ],
   "source": [
    "df.drop_duplicates()"
   ]
  },
  {
   "cell_type": "code",
   "execution_count": 7,
   "metadata": {},
   "outputs": [
    {
     "data": {
      "text/plain": [
       "(2185, 7)"
      ]
     },
     "execution_count": 7,
     "metadata": {},
     "output_type": "execute_result"
    }
   ],
   "source": [
    "df.shape"
   ]
  },
  {
   "cell_type": "markdown",
   "metadata": {},
   "source": [
    "There are 2185 hotels in this dataset."
   ]
  },
  {
   "cell_type": "code",
   "execution_count": 5,
   "metadata": {},
   "outputs": [
    {
     "data": {
      "text/plain": [
       "30"
      ]
     },
     "execution_count": 5,
     "metadata": {},
     "output_type": "execute_result"
    }
   ],
   "source": [
    "df.Brand.nunique()"
   ]
  },
  {
   "cell_type": "markdown",
   "metadata": {},
   "source": [
    "There are 30 unique brands of Marriott hotels."
   ]
  },
  {
   "cell_type": "code",
   "execution_count": 38,
   "metadata": {},
   "outputs": [
    {
     "data": {
      "text/plain": [
       "USA          1548\n",
       "Canada         76\n",
       "China          68\n",
       "Spain          34\n",
       "India          26\n",
       "             ... \n",
       "Bahrain         1\n",
       "Bolivia         1\n",
       "Uganda          1\n",
       "Hong Kong       1\n",
       "Qatar           1\n",
       "Name: Destination, Length: 98, dtype: int64"
      ]
     },
     "execution_count": 38,
     "metadata": {},
     "output_type": "execute_result"
    }
   ],
   "source": [
    "df.Destination.value_counts().sort_values(ascending=False)"
   ]
  },
  {
   "cell_type": "markdown",
   "metadata": {},
   "source": [
    "USA has the most hotels with 1548. "
   ]
  },
  {
   "cell_type": "code",
   "execution_count": 7,
   "metadata": {},
   "outputs": [
    {
     "data": {
      "text/plain": [
       "14"
      ]
     },
     "execution_count": 7,
     "metadata": {},
     "output_type": "execute_result"
    }
   ],
   "source": [
    "df2= df[df.Destination == 'China']\n",
    "df2= df2[df2['New Category'] != df2['Current Category']]\n",
    "df2.Brand.nunique()"
   ]
  },
  {
   "cell_type": "markdown",
   "metadata": {},
   "source": [
    "14 Brands in China changed category."
   ]
  },
  {
   "cell_type": "markdown",
   "metadata": {},
   "source": [
    "## Question 3\n",
    "- What's the percentage of hotels worldwide with category upgrade in 2020?"
   ]
  },
  {
   "cell_type": "code",
   "execution_count": 8,
   "metadata": {},
   "outputs": [
    {
     "data": {
      "text/plain": [
       "(1686, 7)"
      ]
     },
     "execution_count": 8,
     "metadata": {},
     "output_type": "execute_result"
    }
   ],
   "source": [
    "df3= df[df['New Category'] > df['Current Category']]\n",
    "df3.shape"
   ]
  },
  {
   "cell_type": "code",
   "execution_count": 9,
   "metadata": {},
   "outputs": [
    {
     "name": "stdout",
     "output_type": "stream",
     "text": [
      "77.16\n"
     ]
    }
   ],
   "source": [
    "percent_changed = round(df3.shape[0]/df.shape[0]*100,2)\n",
    "print(percent_changed)"
   ]
  },
  {
   "cell_type": "markdown",
   "metadata": {},
   "source": [
    "77.16% of hotels worldwide has category upgrades."
   ]
  },
  {
   "cell_type": "markdown",
   "metadata": {},
   "source": [
    "## Question 4\n",
    "- List hotels with category changes greater than 1 if any, such as changing from category 3 to 5 or from category 7 to 4\n",
    "- List all JW Marriott hotels in China that have a category upgrade"
   ]
  },
  {
   "cell_type": "code",
   "execution_count": 10,
   "metadata": {},
   "outputs": [
    {
     "data": {
      "text/html": [
       "<div>\n",
       "<style scoped>\n",
       "    .dataframe tbody tr th:only-of-type {\n",
       "        vertical-align: middle;\n",
       "    }\n",
       "\n",
       "    .dataframe tbody tr th {\n",
       "        vertical-align: top;\n",
       "    }\n",
       "\n",
       "    .dataframe thead th {\n",
       "        text-align: right;\n",
       "    }\n",
       "</style>\n",
       "<table border=\"1\" class=\"dataframe\">\n",
       "  <thead>\n",
       "    <tr style=\"text-align: right;\">\n",
       "      <th></th>\n",
       "      <th>Hotel</th>\n",
       "      <th>Brand</th>\n",
       "      <th>Destination</th>\n",
       "      <th>Current Category</th>\n",
       "      <th>Current Standard Price</th>\n",
       "      <th>New Category</th>\n",
       "      <th>New Standard Price</th>\n",
       "      <th>Change</th>\n",
       "    </tr>\n",
       "  </thead>\n",
       "  <tbody>\n",
       "    <tr>\n",
       "      <th>0</th>\n",
       "      <td>Aberdeen Marriott Hotel</td>\n",
       "      <td>Marriott</td>\n",
       "      <td>United Kingdom</td>\n",
       "      <td>3</td>\n",
       "      <td>17500</td>\n",
       "      <td>2</td>\n",
       "      <td>12500</td>\n",
       "      <td>1</td>\n",
       "    </tr>\n",
       "    <tr>\n",
       "      <th>1</th>\n",
       "      <td>AC Hotel Aitana</td>\n",
       "      <td>AC Hotels by Marriott</td>\n",
       "      <td>Spain</td>\n",
       "      <td>3</td>\n",
       "      <td>17500</td>\n",
       "      <td>4</td>\n",
       "      <td>25000</td>\n",
       "      <td>1</td>\n",
       "    </tr>\n",
       "    <tr>\n",
       "      <th>2</th>\n",
       "      <td>AC Hotel Alcala de Henares</td>\n",
       "      <td>AC Hotels by Marriott</td>\n",
       "      <td>Spain</td>\n",
       "      <td>1</td>\n",
       "      <td>7500</td>\n",
       "      <td>2</td>\n",
       "      <td>12500</td>\n",
       "      <td>1</td>\n",
       "    </tr>\n",
       "    <tr>\n",
       "      <th>3</th>\n",
       "      <td>AC Hotel Almeria</td>\n",
       "      <td>AC Hotels by Marriott</td>\n",
       "      <td>Spain</td>\n",
       "      <td>1</td>\n",
       "      <td>7500</td>\n",
       "      <td>2</td>\n",
       "      <td>12500</td>\n",
       "      <td>1</td>\n",
       "    </tr>\n",
       "    <tr>\n",
       "      <th>4</th>\n",
       "      <td>AC Hotel Aravaca</td>\n",
       "      <td>AC Hotels by Marriott</td>\n",
       "      <td>Spain</td>\n",
       "      <td>1</td>\n",
       "      <td>7500</td>\n",
       "      <td>2</td>\n",
       "      <td>12500</td>\n",
       "      <td>1</td>\n",
       "    </tr>\n",
       "  </tbody>\n",
       "</table>\n",
       "</div>"
      ],
      "text/plain": [
       "                        Hotel                  Brand     Destination  \\\n",
       "0     Aberdeen Marriott Hotel               Marriott  United Kingdom   \n",
       "1             AC Hotel Aitana  AC Hotels by Marriott           Spain   \n",
       "2  AC Hotel Alcala de Henares  AC Hotels by Marriott           Spain   \n",
       "3            AC Hotel Almeria  AC Hotels by Marriott           Spain   \n",
       "4            AC Hotel Aravaca  AC Hotels by Marriott           Spain   \n",
       "\n",
       "   Current Category  Current Standard Price  New Category  New Standard Price  \\\n",
       "0                 3                   17500             2               12500   \n",
       "1                 3                   17500             4               25000   \n",
       "2                 1                    7500             2               12500   \n",
       "3                 1                    7500             2               12500   \n",
       "4                 1                    7500             2               12500   \n",
       "\n",
       "   Change  \n",
       "0       1  \n",
       "1       1  \n",
       "2       1  \n",
       "3       1  \n",
       "4       1  "
      ]
     },
     "execution_count": 10,
     "metadata": {},
     "output_type": "execute_result"
    }
   ],
   "source": [
    "df['Change']= abs(df['New Category']-df['Current Category'])\n",
    "df.head()"
   ]
  },
  {
   "cell_type": "code",
   "execution_count": 11,
   "metadata": {},
   "outputs": [
    {
     "data": {
      "text/html": [
       "<div>\n",
       "<style scoped>\n",
       "    .dataframe tbody tr th:only-of-type {\n",
       "        vertical-align: middle;\n",
       "    }\n",
       "\n",
       "    .dataframe tbody tr th {\n",
       "        vertical-align: top;\n",
       "    }\n",
       "\n",
       "    .dataframe thead th {\n",
       "        text-align: right;\n",
       "    }\n",
       "</style>\n",
       "<table border=\"1\" class=\"dataframe\">\n",
       "  <thead>\n",
       "    <tr style=\"text-align: right;\">\n",
       "      <th></th>\n",
       "      <th>Hotel</th>\n",
       "      <th>Brand</th>\n",
       "      <th>Destination</th>\n",
       "      <th>Current Category</th>\n",
       "      <th>Current Standard Price</th>\n",
       "      <th>New Category</th>\n",
       "      <th>New Standard Price</th>\n",
       "      <th>Change</th>\n",
       "    </tr>\n",
       "  </thead>\n",
       "  <tbody>\n",
       "    <tr>\n",
       "      <th>913</th>\n",
       "      <td>Four Points by Sheraton Bali, Ungasan</td>\n",
       "      <td>Four Points</td>\n",
       "      <td>Indonesia</td>\n",
       "      <td>4</td>\n",
       "      <td>25000</td>\n",
       "      <td>2</td>\n",
       "      <td>12500</td>\n",
       "      <td>2</td>\n",
       "    </tr>\n",
       "  </tbody>\n",
       "</table>\n",
       "</div>"
      ],
      "text/plain": [
       "                                     Hotel        Brand Destination  \\\n",
       "913  Four Points by Sheraton Bali, Ungasan  Four Points   Indonesia   \n",
       "\n",
       "     Current Category  Current Standard Price  New Category  \\\n",
       "913                 4                   25000             2   \n",
       "\n",
       "     New Standard Price  Change  \n",
       "913               12500       2  "
      ]
     },
     "execution_count": 11,
     "metadata": {},
     "output_type": "execute_result"
    }
   ],
   "source": [
    "df4 = df[df.Change >= 2]\n",
    "df4.head()"
   ]
  },
  {
   "cell_type": "markdown",
   "metadata": {},
   "source": [
    "The Four Points by Sheraton Bali, Ungasan in Indonesia was the only hotel to have a category change greater than 1. Falling from Category 4 to 2."
   ]
  },
  {
   "cell_type": "code",
   "execution_count": 12,
   "metadata": {},
   "outputs": [
    {
     "data": {
      "text/html": [
       "<div>\n",
       "<style scoped>\n",
       "    .dataframe tbody tr th:only-of-type {\n",
       "        vertical-align: middle;\n",
       "    }\n",
       "\n",
       "    .dataframe tbody tr th {\n",
       "        vertical-align: top;\n",
       "    }\n",
       "\n",
       "    .dataframe thead th {\n",
       "        text-align: right;\n",
       "    }\n",
       "</style>\n",
       "<table border=\"1\" class=\"dataframe\">\n",
       "  <thead>\n",
       "    <tr style=\"text-align: right;\">\n",
       "      <th></th>\n",
       "      <th>Hotel</th>\n",
       "      <th>Brand</th>\n",
       "      <th>Destination</th>\n",
       "      <th>Current Category</th>\n",
       "      <th>Current Standard Price</th>\n",
       "      <th>New Category</th>\n",
       "      <th>New Standard Price</th>\n",
       "      <th>Change</th>\n",
       "    </tr>\n",
       "  </thead>\n",
       "  <tbody>\n",
       "    <tr>\n",
       "      <th>1074</th>\n",
       "      <td>JW Marriott Hotel Chengdu</td>\n",
       "      <td>JW Marriott</td>\n",
       "      <td>China</td>\n",
       "      <td>3</td>\n",
       "      <td>17500</td>\n",
       "      <td>4</td>\n",
       "      <td>25000</td>\n",
       "      <td>1</td>\n",
       "    </tr>\n",
       "    <tr>\n",
       "      <th>1078</th>\n",
       "      <td>JW Marriott Hotel Shenzhen</td>\n",
       "      <td>JW Marriott</td>\n",
       "      <td>China</td>\n",
       "      <td>3</td>\n",
       "      <td>17500</td>\n",
       "      <td>4</td>\n",
       "      <td>25000</td>\n",
       "      <td>1</td>\n",
       "    </tr>\n",
       "    <tr>\n",
       "      <th>1079</th>\n",
       "      <td>JW Marriott Hotel Shenzhen Bao'an</td>\n",
       "      <td>JW Marriott</td>\n",
       "      <td>China</td>\n",
       "      <td>3</td>\n",
       "      <td>17500</td>\n",
       "      <td>4</td>\n",
       "      <td>25000</td>\n",
       "      <td>1</td>\n",
       "    </tr>\n",
       "    <tr>\n",
       "      <th>1083</th>\n",
       "      <td>JW Marriott Hotel Zhengzhou</td>\n",
       "      <td>JW Marriott</td>\n",
       "      <td>China</td>\n",
       "      <td>2</td>\n",
       "      <td>12500</td>\n",
       "      <td>3</td>\n",
       "      <td>17500</td>\n",
       "      <td>1</td>\n",
       "    </tr>\n",
       "  </tbody>\n",
       "</table>\n",
       "</div>"
      ],
      "text/plain": [
       "                                  Hotel        Brand Destination  \\\n",
       "1074          JW Marriott Hotel Chengdu  JW Marriott       China   \n",
       "1078         JW Marriott Hotel Shenzhen  JW Marriott       China   \n",
       "1079  JW Marriott Hotel Shenzhen Bao'an  JW Marriott       China   \n",
       "1083        JW Marriott Hotel Zhengzhou  JW Marriott       China   \n",
       "\n",
       "      Current Category  Current Standard Price  New Category  \\\n",
       "1074                 3                   17500             4   \n",
       "1078                 3                   17500             4   \n",
       "1079                 3                   17500             4   \n",
       "1083                 2                   12500             3   \n",
       "\n",
       "      New Standard Price  Change  \n",
       "1074               25000       1  \n",
       "1078               25000       1  \n",
       "1079               25000       1  \n",
       "1083               17500       1  "
      ]
     },
     "execution_count": 12,
     "metadata": {},
     "output_type": "execute_result"
    }
   ],
   "source": [
    "df5= df[df.Destination == 'China']\n",
    "df5= df5[df5['Brand'] == 'JW Marriott']\n",
    "df5= df5[df5['New Category']> df5['Current Category']]\n",
    "df5.head()"
   ]
  },
  {
   "cell_type": "code",
   "execution_count": 13,
   "metadata": {},
   "outputs": [
    {
     "data": {
      "text/plain": [
       "(4, 8)"
      ]
     },
     "execution_count": 13,
     "metadata": {},
     "output_type": "execute_result"
    }
   ],
   "source": [
    "df5.shape"
   ]
  },
  {
   "cell_type": "markdown",
   "metadata": {},
   "source": [
    "4 JW Marriott hotels in China that had a category upgrade."
   ]
  },
  {
   "cell_type": "markdown",
   "metadata": {},
   "source": [
    "## Question 5\n",
    "Assume you are in Feburary 2020 and the category changes will take effect on March 4, 2020. You are planning your trip to Florence, Italy and Hong Kong, China in April. You only stay in category 8 hotel (existing category 8 or future category 8) and want to optimize your point spending. Based on the data, which hotel you should book? when should you book your hotels for Florence and Hong Kong? Why?"
   ]
  },
  {
   "cell_type": "code",
   "execution_count": 14,
   "metadata": {},
   "outputs": [
    {
     "data": {
      "text/html": [
       "<div>\n",
       "<style scoped>\n",
       "    .dataframe tbody tr th:only-of-type {\n",
       "        vertical-align: middle;\n",
       "    }\n",
       "\n",
       "    .dataframe tbody tr th {\n",
       "        vertical-align: top;\n",
       "    }\n",
       "\n",
       "    .dataframe thead th {\n",
       "        text-align: right;\n",
       "    }\n",
       "</style>\n",
       "<table border=\"1\" class=\"dataframe\">\n",
       "  <thead>\n",
       "    <tr style=\"text-align: right;\">\n",
       "      <th></th>\n",
       "      <th>Hotel</th>\n",
       "      <th>Brand</th>\n",
       "      <th>Destination</th>\n",
       "      <th>Current Category</th>\n",
       "      <th>Current Standard Price</th>\n",
       "      <th>New Category</th>\n",
       "      <th>New Standard Price</th>\n",
       "      <th>Change</th>\n",
       "    </tr>\n",
       "  </thead>\n",
       "  <tbody>\n",
       "    <tr>\n",
       "      <th>11</th>\n",
       "      <td>AC Hotel Brescia</td>\n",
       "      <td>AC Hotels by Marriott</td>\n",
       "      <td>Italy</td>\n",
       "      <td>1</td>\n",
       "      <td>7500</td>\n",
       "      <td>2</td>\n",
       "      <td>12500</td>\n",
       "      <td>1</td>\n",
       "    </tr>\n",
       "    <tr>\n",
       "      <th>51</th>\n",
       "      <td>AC Hotel Venezia</td>\n",
       "      <td>AC Hotels by Marriott</td>\n",
       "      <td>Italy</td>\n",
       "      <td>5</td>\n",
       "      <td>35000</td>\n",
       "      <td>6</td>\n",
       "      <td>50000</td>\n",
       "      <td>1</td>\n",
       "    </tr>\n",
       "    <tr>\n",
       "      <th>52</th>\n",
       "      <td>AC Hotel Vicenza</td>\n",
       "      <td>AC Hotels by Marriott</td>\n",
       "      <td>Italy</td>\n",
       "      <td>1</td>\n",
       "      <td>7500</td>\n",
       "      <td>2</td>\n",
       "      <td>12500</td>\n",
       "      <td>1</td>\n",
       "    </tr>\n",
       "    <tr>\n",
       "      <th>145</th>\n",
       "      <td>Cervo Hotel, Costa Smeralda Resort</td>\n",
       "      <td>Sheraton</td>\n",
       "      <td>Italy</td>\n",
       "      <td>7</td>\n",
       "      <td>60000</td>\n",
       "      <td>8</td>\n",
       "      <td>85000</td>\n",
       "      <td>1</td>\n",
       "    </tr>\n",
       "    <tr>\n",
       "      <th>519</th>\n",
       "      <td>Cristallo, a Luxury Collection Resort &amp; Spa, C...</td>\n",
       "      <td>Luxury Collection</td>\n",
       "      <td>Italy</td>\n",
       "      <td>8</td>\n",
       "      <td>85000</td>\n",
       "      <td>7</td>\n",
       "      <td>60000</td>\n",
       "      <td>1</td>\n",
       "    </tr>\n",
       "  </tbody>\n",
       "</table>\n",
       "</div>"
      ],
      "text/plain": [
       "                                                 Hotel                  Brand  \\\n",
       "11                                    AC Hotel Brescia  AC Hotels by Marriott   \n",
       "51                                    AC Hotel Venezia  AC Hotels by Marriott   \n",
       "52                                    AC Hotel Vicenza  AC Hotels by Marriott   \n",
       "145                 Cervo Hotel, Costa Smeralda Resort               Sheraton   \n",
       "519  Cristallo, a Luxury Collection Resort & Spa, C...      Luxury Collection   \n",
       "\n",
       "    Destination  Current Category  Current Standard Price  New Category  \\\n",
       "11        Italy                 1                    7500             2   \n",
       "51        Italy                 5                   35000             6   \n",
       "52        Italy                 1                    7500             2   \n",
       "145       Italy                 7                   60000             8   \n",
       "519       Italy                 8                   85000             7   \n",
       "\n",
       "     New Standard Price  Change  \n",
       "11                12500       1  \n",
       "51                50000       1  \n",
       "52                12500       1  \n",
       "145               85000       1  \n",
       "519               60000       1  "
      ]
     },
     "execution_count": 14,
     "metadata": {},
     "output_type": "execute_result"
    }
   ],
   "source": [
    "df6= df[df.Destination == 'Italy']\n",
    "df7= df[df.Destination == 'China']\n",
    "df6.head()"
   ]
  },
  {
   "cell_type": "code",
   "execution_count": 15,
   "metadata": {},
   "outputs": [
    {
     "data": {
      "text/html": [
       "<div>\n",
       "<style scoped>\n",
       "    .dataframe tbody tr th:only-of-type {\n",
       "        vertical-align: middle;\n",
       "    }\n",
       "\n",
       "    .dataframe tbody tr th {\n",
       "        vertical-align: top;\n",
       "    }\n",
       "\n",
       "    .dataframe thead th {\n",
       "        text-align: right;\n",
       "    }\n",
       "</style>\n",
       "<table border=\"1\" class=\"dataframe\">\n",
       "  <thead>\n",
       "    <tr style=\"text-align: right;\">\n",
       "      <th></th>\n",
       "      <th>Hotel</th>\n",
       "      <th>Brand</th>\n",
       "      <th>Destination</th>\n",
       "      <th>Current Category</th>\n",
       "      <th>Current Standard Price</th>\n",
       "      <th>New Category</th>\n",
       "      <th>New Standard Price</th>\n",
       "      <th>Change</th>\n",
       "    </tr>\n",
       "  </thead>\n",
       "  <tbody>\n",
       "    <tr>\n",
       "      <th>82</th>\n",
       "      <td>Aloft Guangzhou Tianhe</td>\n",
       "      <td>Aloft</td>\n",
       "      <td>China</td>\n",
       "      <td>2</td>\n",
       "      <td>12500</td>\n",
       "      <td>3</td>\n",
       "      <td>17500</td>\n",
       "      <td>1</td>\n",
       "    </tr>\n",
       "    <tr>\n",
       "      <th>83</th>\n",
       "      <td>Aloft Guangzhou University Park</td>\n",
       "      <td>Aloft</td>\n",
       "      <td>China</td>\n",
       "      <td>1</td>\n",
       "      <td>7500</td>\n",
       "      <td>2</td>\n",
       "      <td>12500</td>\n",
       "      <td>1</td>\n",
       "    </tr>\n",
       "    <tr>\n",
       "      <th>469</th>\n",
       "      <td>Courtyard Shanghai-Pudong</td>\n",
       "      <td>Courtyard</td>\n",
       "      <td>China</td>\n",
       "      <td>2</td>\n",
       "      <td>12500</td>\n",
       "      <td>3</td>\n",
       "      <td>17500</td>\n",
       "      <td>1</td>\n",
       "    </tr>\n",
       "    <tr>\n",
       "      <th>470</th>\n",
       "      <td>Courtyard Shenzhen Bay</td>\n",
       "      <td>Courtyard</td>\n",
       "      <td>China</td>\n",
       "      <td>2</td>\n",
       "      <td>12500</td>\n",
       "      <td>3</td>\n",
       "      <td>17500</td>\n",
       "      <td>1</td>\n",
       "    </tr>\n",
       "    <tr>\n",
       "      <th>484</th>\n",
       "      <td>Courtyard Suzhou</td>\n",
       "      <td>Courtyard</td>\n",
       "      <td>China</td>\n",
       "      <td>2</td>\n",
       "      <td>12500</td>\n",
       "      <td>3</td>\n",
       "      <td>17500</td>\n",
       "      <td>1</td>\n",
       "    </tr>\n",
       "  </tbody>\n",
       "</table>\n",
       "</div>"
      ],
      "text/plain": [
       "                               Hotel      Brand Destination  Current Category  \\\n",
       "82            Aloft Guangzhou Tianhe      Aloft       China                 2   \n",
       "83   Aloft Guangzhou University Park      Aloft       China                 1   \n",
       "469        Courtyard Shanghai-Pudong  Courtyard       China                 2   \n",
       "470           Courtyard Shenzhen Bay  Courtyard       China                 2   \n",
       "484                 Courtyard Suzhou  Courtyard       China                 2   \n",
       "\n",
       "     Current Standard Price  New Category  New Standard Price  Change  \n",
       "82                    12500             3               17500       1  \n",
       "83                     7500             2               12500       1  \n",
       "469                   12500             3               17500       1  \n",
       "470                   12500             3               17500       1  \n",
       "484                   12500             3               17500       1  "
      ]
     },
     "execution_count": 15,
     "metadata": {},
     "output_type": "execute_result"
    }
   ],
   "source": [
    "df7.head()"
   ]
  },
  {
   "cell_type": "code",
   "execution_count": 23,
   "metadata": {},
   "outputs": [],
   "source": [
    "df8= pd.concat([df6,df7])"
   ]
  },
  {
   "cell_type": "code",
   "execution_count": 34,
   "metadata": {},
   "outputs": [],
   "source": [
    "df9 = df8[df8['New Category']== 8]\n",
    "df10 = df8[df8['Current Category']== 8]\n",
    "df11 = pd.concat([df9,df10])"
   ]
  },
  {
   "cell_type": "code",
   "execution_count": 35,
   "metadata": {},
   "outputs": [
    {
     "data": {
      "text/html": [
       "<div>\n",
       "<style scoped>\n",
       "    .dataframe tbody tr th:only-of-type {\n",
       "        vertical-align: middle;\n",
       "    }\n",
       "\n",
       "    .dataframe tbody tr th {\n",
       "        vertical-align: top;\n",
       "    }\n",
       "\n",
       "    .dataframe thead th {\n",
       "        text-align: right;\n",
       "    }\n",
       "</style>\n",
       "<table border=\"1\" class=\"dataframe\">\n",
       "  <thead>\n",
       "    <tr style=\"text-align: right;\">\n",
       "      <th></th>\n",
       "      <th>Hotel</th>\n",
       "      <th>Brand</th>\n",
       "      <th>Destination</th>\n",
       "      <th>Current Category</th>\n",
       "      <th>Current Standard Price</th>\n",
       "      <th>New Category</th>\n",
       "      <th>New Standard Price</th>\n",
       "      <th>Change</th>\n",
       "    </tr>\n",
       "  </thead>\n",
       "  <tbody>\n",
       "    <tr>\n",
       "      <th>145</th>\n",
       "      <td>Cervo Hotel, Costa Smeralda Resort</td>\n",
       "      <td>Sheraton</td>\n",
       "      <td>Italy</td>\n",
       "      <td>7</td>\n",
       "      <td>60000</td>\n",
       "      <td>8</td>\n",
       "      <td>85000</td>\n",
       "      <td>1</td>\n",
       "    </tr>\n",
       "    <tr>\n",
       "      <th>1968</th>\n",
       "      <td>The Westin Excelsior, Florence</td>\n",
       "      <td>Westin</td>\n",
       "      <td>Italy</td>\n",
       "      <td>7</td>\n",
       "      <td>60000</td>\n",
       "      <td>8</td>\n",
       "      <td>85000</td>\n",
       "      <td>1</td>\n",
       "    </tr>\n",
       "    <tr>\n",
       "      <th>519</th>\n",
       "      <td>Cristallo, a Luxury Collection Resort &amp; Spa, C...</td>\n",
       "      <td>Luxury Collection</td>\n",
       "      <td>Italy</td>\n",
       "      <td>8</td>\n",
       "      <td>85000</td>\n",
       "      <td>7</td>\n",
       "      <td>60000</td>\n",
       "      <td>1</td>\n",
       "    </tr>\n",
       "    <tr>\n",
       "      <th>2165</th>\n",
       "      <td>W Hong Kong</td>\n",
       "      <td>W Hotels</td>\n",
       "      <td>China</td>\n",
       "      <td>8</td>\n",
       "      <td>85000</td>\n",
       "      <td>7</td>\n",
       "      <td>60000</td>\n",
       "      <td>1</td>\n",
       "    </tr>\n",
       "  </tbody>\n",
       "</table>\n",
       "</div>"
      ],
      "text/plain": [
       "                                                  Hotel              Brand  \\\n",
       "145                  Cervo Hotel, Costa Smeralda Resort           Sheraton   \n",
       "1968                     The Westin Excelsior, Florence             Westin   \n",
       "519   Cristallo, a Luxury Collection Resort & Spa, C...  Luxury Collection   \n",
       "2165                                        W Hong Kong           W Hotels   \n",
       "\n",
       "     Destination  Current Category  Current Standard Price  New Category  \\\n",
       "145        Italy                 7                   60000             8   \n",
       "1968       Italy                 7                   60000             8   \n",
       "519        Italy                 8                   85000             7   \n",
       "2165       China                 8                   85000             7   \n",
       "\n",
       "      New Standard Price  Change  \n",
       "145                85000       1  \n",
       "1968               85000       1  \n",
       "519                60000       1  \n",
       "2165               60000       1  "
      ]
     },
     "execution_count": 35,
     "metadata": {},
     "output_type": "execute_result"
    }
   ],
   "source": [
    "df11.head()"
   ]
  },
  {
   "cell_type": "markdown",
   "metadata": {},
   "source": [
    "I should book my hotel for the W Hong Kong before the categories change on March 4th, but will have to wait to book the The Westin Excelsior, Florence until after that date."
   ]
  },
  {
   "cell_type": "code",
   "execution_count": null,
   "metadata": {},
   "outputs": [],
   "source": []
  }
 ],
 "metadata": {
  "kernelspec": {
   "display_name": "Python 3",
   "language": "python",
   "name": "python3"
  },
  "language_info": {
   "codemirror_mode": {
    "name": "ipython",
    "version": 3
   },
   "file_extension": ".py",
   "mimetype": "text/x-python",
   "name": "python",
   "nbconvert_exporter": "python",
   "pygments_lexer": "ipython3",
   "version": "3.7.3"
  }
 },
 "nbformat": 4,
 "nbformat_minor": 4
}
